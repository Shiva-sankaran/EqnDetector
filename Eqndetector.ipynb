{
 "cells": [
  {
   "cell_type": "code",
   "execution_count": 189,
   "metadata": {},
   "outputs": [],
   "source": [
    "import cv2\n",
    "import glob\n",
    "import numpy as np\n",
    "import matplotlib.pyplot as plt\n",
    "import tensorflow as tf\n",
    "from tensorflow import keras\n",
    "# import tensorflow.keras.models \n",
    "from keras.models import model_from_json\n",
    "import pickle"
   ]
  },
  {
   "cell_type": "code",
   "execution_count": 190,
   "metadata": {},
   "outputs": [
    {
     "name": "stdout",
     "output_type": "stream",
     "text": [
      "Device mapping:\n",
      "/job:localhost/replica:0/task:0/device:XLA_CPU:0 -> device: XLA_CPU device\n",
      "/job:localhost/replica:0/task:0/device:XLA_GPU:0 -> device: XLA_GPU device\n",
      "/job:localhost/replica:0/task:0/device:GPU:0 -> device: 0, name: GeForce GTX 1650, pci bus id: 0000:01:00.0, compute capability: 7.5\n",
      "\n"
     ]
    }
   ],
   "source": [
    "from tensorflow.compat.v1.keras.backend import set_session\n",
    "config = tf.compat.v1.ConfigProto()\n",
    "config.gpu_options.allow_growth = True  # dynamically grow the memory used on the GPU\n",
    "config.log_device_placement = True  # to log device placement (on which device the operation ran)\n",
    "sess = tf.compat.v1.Session(config=config)\n",
    "set_session(sess)"
   ]
  },
  {
   "cell_type": "markdown",
   "metadata": {},
   "source": [
    "# Load model and labels"
   ]
  },
  {
   "cell_type": "code",
   "execution_count": 191,
   "metadata": {},
   "outputs": [
    {
     "name": "stdout",
     "output_type": "stream",
     "text": [
      "Model: \"sequential_1\"\n",
      "_________________________________________________________________\n",
      "Layer (type)                 Output Shape              Param #   \n",
      "=================================================================\n",
      "conv2d_2 (Conv2D)            (None, 30, 24, 24)        780       \n",
      "_________________________________________________________________\n",
      "max_pooling2d_2 (MaxPooling2 (None, 30, 12, 12)        0         \n",
      "_________________________________________________________________\n",
      "conv2d_3 (Conv2D)            (None, 15, 10, 10)        4065      \n",
      "_________________________________________________________________\n",
      "max_pooling2d_3 (MaxPooling2 (None, 15, 5, 5)          0         \n",
      "_________________________________________________________________\n",
      "dropout_1 (Dropout)          (None, 15, 5, 5)          0         \n",
      "_________________________________________________________________\n",
      "flatten_1 (Flatten)          (None, 375)               0         \n",
      "_________________________________________________________________\n",
      "dense_3 (Dense)              (None, 128)               48128     \n",
      "_________________________________________________________________\n",
      "dense_4 (Dense)              (None, 100)               12900     \n",
      "_________________________________________________________________\n",
      "dense_5 (Dense)              (None, 82)                8282      \n",
      "=================================================================\n",
      "Total params: 74,155\n",
      "Trainable params: 74,155\n",
      "Non-trainable params: 0\n",
      "_________________________________________________________________\n",
      "None\n"
     ]
    }
   ],
   "source": [
    "json_file = open('/home/shivasankaran/saved_models/eqsolver/eqnsolver_v1.json', 'r')\n",
    "my_model_json = json_file.read()\n",
    "json_file.close()\n",
    "my_model = model_from_json(my_model_json)\n",
    "# load weights into new model\n",
    "my_model.load_weights(\"/home/shivasankaran/saved_models/eqsolver/eqnsolver_v1.h5\")\n",
    "print(my_model.summary())\n",
    "\n",
    "l_file = open(\"/home/shivasankaran/datasets/equation solver/labels.pkl\", \"rb\")\n",
    "label = pickle.load(l_file)"
   ]
  },
  {
   "cell_type": "markdown",
   "metadata": {},
   "source": [
    "# Feature detector"
   ]
  },
  {
   "cell_type": "code",
   "execution_count": 192,
   "metadata": {},
   "outputs": [],
   "source": [
    "def rectContains(rect,pt):\n",
    "    if(rect[0] < pt[0] and pt[0]<rect[0]+rect[2] and rect[1] < pt[1] and pt[1]< rect[1]+rect[3]):\n",
    "        return True\n",
    "    else:\n",
    "        return False\n"
   ]
  },
  {
   "cell_type": "code",
   "execution_count": 193,
   "metadata": {},
   "outputs": [],
   "source": [
    "def feature_extractor(image_path):\n",
    "    features = []\n",
    "    image = cv2.imread(image_path)\n",
    "    gray = cv2.cvtColor(image,cv2.COLOR_BGR2GRAY)\n",
    "#     kernel = np.ones((3,3), np.uint8)\n",
    "#     kernel2 = np.ones((4,4),np.uint8)\n",
    "    thresh,binary = cv2.threshold(gray,130,255,cv2.THRESH_BINARY)\n",
    "#     binary = cv2.dilate(binary, kernel, iterations=1)\n",
    "#     binary = cv2.GaussianBlur(binary,(3,3),cv2.BORDER_DEFAULT)\n",
    "#     binary = cv2.erode(binary, kernel2, iterations=1)\n",
    "#     cv2.medianBlur(binary, 21)\n",
    "#     cv2.fastNlMeansDenoising(binary,binary)\n",
    "    contours,_ = cv2.findContours(binary, cv2.RETR_LIST, cv2.CHAIN_APPROX_SIMPLE)\n",
    "    with_contours = cv2.drawContours(binary, contours, -1,(255,0,255),3)\n",
    "    \n",
    "    rects = []\n",
    "    for contour in contours:\n",
    "        if(cv2.contourArea(contour)>400 and cv2.contourArea(contour)<50000):\n",
    "            x,y,w,h = cv2.boundingRect(contour)\n",
    "            rect = [x,y,w,h]\n",
    "            rects.append(rect)\n",
    "\n",
    "    rects.sort(key = lambda k:k[0])\n",
    "        \n",
    "    temp = []\n",
    "    for i in range(len(rects)):\n",
    "        r = rects[i]\n",
    "        l=[]\n",
    "        for j in range(i+1,len(rects)):\n",
    "            rec = rects[j]\n",
    "            x=rec[0]\n",
    "            y=rec[1]\n",
    "            w=rec[2]\n",
    "            h=rec[3]\n",
    "            top_left = [x,y]\n",
    "            bottom_right = [x+w,y+h]\n",
    "            if(rectContains(r,top_left) or rectContains(r,bottom_right) ):\n",
    "                if(w*h>r[2]*r[3]):\n",
    "                    temp.append(i)\n",
    "                else:\n",
    "                    temp.append(j)\n",
    "    final_rects = [] \n",
    "    for i in range(len(rects)):\n",
    "        if i not in temp:\n",
    "            final_rects.append(rects[i])\n",
    "    y_ref = 0\n",
    "    h_ref = 0\n",
    "    for r in final_rects:\n",
    "        y_ref+=(r[1]+(r[3])/2)\n",
    "        h_ref+=r[3]\n",
    "    y_ref = y_ref//len(final_rects)\n",
    "    h_ref = h_ref//len(final_rects)\n",
    "    h_ref = int(h_ref)\n",
    "    y_ref = int(y_ref)\n",
    "#     cpy = binary.copy()\n",
    "#     cv2.line(cpy,(0,y_ref),(1200,y_ref),(0, 255, 0),10)\n",
    "#     plt.imshow(cpy, cmap = 'binary', interpolation = 'bicubic')\n",
    "#     plt.xticks([]), plt.yticks([])  # to hide tick values on X and Y axis\n",
    "#     plt.show()\n",
    "    for rect in final_rects:\n",
    "        tp = \"element\"\n",
    "        x=rect[0]\n",
    "        y=rect[1]\n",
    "        w=rect[2]\n",
    "        h=rect[3]\n",
    "        if(y+h<y_ref and h_ref>h):\n",
    "            tp = \"superscript\"\n",
    "        if(y>y_ref and h_ref>h):\n",
    "            tp = \"subscript\"\n",
    "            \n",
    "            \n",
    "        boxed = binary[y-5:y+h+5,x-5:x+w+5]\n",
    "        \n",
    "        \n",
    "        resized = cv2.resize(boxed,(28,28))\n",
    "        features.append([resized,tp])\n",
    "    return features\n",
    "\n",
    "\n",
    "    return features\n",
    "    "
   ]
  },
  {
   "cell_type": "markdown",
   "metadata": {},
   "source": [
    "# Equation detctor"
   ]
  },
  {
   "cell_type": "code",
   "execution_count": 194,
   "metadata": {},
   "outputs": [
    {
     "name": "stdout",
     "output_type": "stream",
     "text": [
      "Predicted for the above img: X3(sup)+y4(sub)3(sup)+4X5(sup)\n"
     ]
    }
   ],
   "source": [
    "data_test_image = \"/home/shivasankaran/datasets/equation solver/data/extracted_images/3/3_108.jpg\"\n",
    "operators = [\"+\",\"-\",\"/\",\"*\"]\n",
    "my_test = \"/home/shivasankaran/datasets/equation solver/test9.jpeg\"\n",
    "feats = feature_extractor(my_test)\n",
    "s = \"\"\n",
    "for feat,tp in feats:\n",
    "#     plt.imshow(feat, cmap = 'binary', interpolation = 'bicubic')\n",
    "#     plt.xticks([]), plt.yticks([])  # to hide tick values on X and Y axis\n",
    "#     plt.show()\n",
    "    \n",
    "    resized_img = np.reshape(feat,(1,1,28,28))\n",
    "    predictions = my_model.predict_classes(resized_img)\n",
    "    predicted = labels[predictions[0]]\n",
    "    s+=predicted\n",
    "#     print(predicted)\n",
    "    if(predicted not in operators):\n",
    "        if(tp == \"subscript\"):\n",
    "            s+=\"(sub)\"\n",
    "        if(tp == \"superscript\"):\n",
    "            s+=\"(sup)\"\n",
    "    \n",
    "print(\"Predicted for the above img:\",s)"
   ]
  }
 ],
 "metadata": {
  "kernelspec": {
   "display_name": "Python 3",
   "language": "python",
   "name": "python3"
  },
  "language_info": {
   "codemirror_mode": {
    "name": "ipython",
    "version": 3
   },
   "file_extension": ".py",
   "mimetype": "text/x-python",
   "name": "python",
   "nbconvert_exporter": "python",
   "pygments_lexer": "ipython3",
   "version": "3.8.10"
  }
 },
 "nbformat": 4,
 "nbformat_minor": 5
}
